{
 "metadata": {
  "language_info": {
   "codemirror_mode": {
    "name": "ipython",
    "version": 3
   },
   "file_extension": ".py",
   "mimetype": "text/x-python",
   "name": "python",
   "nbconvert_exporter": "python",
   "pygments_lexer": "ipython3",
   "version": "3.8.3-final"
  },
  "orig_nbformat": 2,
  "kernelspec": {
   "name": "python38364bitbaseconda20343f4077f84ed99da6576714891518",
   "display_name": "Python 3.8.3 64-bit ('base': conda)"
  }
 },
 "nbformat": 4,
 "nbformat_minor": 2,
 "cells": [
  {
   "cell_type": "code",
   "execution_count": 1,
   "metadata": {},
   "outputs": [],
   "source": [
    "import pandas as pd"
   ]
  },
  {
   "cell_type": "code",
   "execution_count": 2,
   "metadata": {},
   "outputs": [],
   "source": [
    "df = pd.read_csv('../Data/leetcode_problems.csv', index_col='question_id')"
   ]
  },
  {
   "cell_type": "code",
   "execution_count": 3,
   "metadata": {},
   "outputs": [
    {
     "output_type": "execute_result",
     "data": {
      "text/plain": "             frontend_question_id  \\\nquestion_id                         \n1                               1   \n2                               2   \n3                               3   \n4                               4   \n5                               5   \n...                           ...   \n1703                         1564   \n1712                         1565   \n1713                         1570   \n1718                         1571   \n1719                         1580   \n\n                                            question__title  \\\nquestion_id                                                   \n1                                                   Two Sum   \n2                                           Add Two Numbers   \n3            Longest Substring Without Repeating Characters   \n4                               Median of Two Sorted Arrays   \n5                             Longest Palindromic Substring   \n...                                                     ...   \n1703                         Put Boxes Into the Warehouse I   \n1712                  Unique Orders and Customers Per Month   \n1713                      Dot Product of Two Sparse Vectors   \n1718                                      Warehouse Manager   \n1719                        Put Boxes Into the Warehouse II   \n\n                                       question__title_slug  difficulty  \\\nquestion_id                                                               \n1                                                   two-sum           1   \n2                                           add-two-numbers           2   \n3            longest-substring-without-repeating-characters           2   \n4                               median-of-two-sorted-arrays           3   \n5                             longest-palindromic-substring           2   \n...                                                     ...         ...   \n1703                         put-boxes-into-the-warehouse-i           2   \n1712                  unique-orders-and-customers-per-month           1   \n1713                      dot-product-of-two-sparse-vectors           2   \n1718                                      warehouse-manager           1   \n1719                        put-boxes-into-the-warehouse-ii           2   \n\n             paid_only  is_new_question  total_acs  total_submitted  \\\nquestion_id                                                           \n1                False            False    3283755          7179332   \n2                False            False    1531080          4491653   \n3                False            False    1698681          5560543   \n4                False            False     738381          2472571   \n5                False            False    1022773          3456856   \n...                ...              ...        ...              ...   \n1703              True            False        978             1429   \n1712              True            False       1145             1402   \n1713              True             True       1557             1660   \n1718              True             True        989             1071   \n1719              True             True        155              258   \n\n                                                           url  \nquestion_id                                                     \n1                        https://leetcode.com/problems/two-sum  \n2                https://leetcode.com/problems/add-two-numbers  \n3            https://leetcode.com/problems/longest-substrin...  \n4            https://leetcode.com/problems/median-of-two-so...  \n5            https://leetcode.com/problems/longest-palindro...  \n...                                                        ...  \n1703         https://leetcode.com/problems/put-boxes-into-t...  \n1712         https://leetcode.com/problems/unique-orders-an...  \n1713         https://leetcode.com/problems/dot-product-of-t...  \n1718           https://leetcode.com/problems/warehouse-manager  \n1719         https://leetcode.com/problems/put-boxes-into-t...  \n\n[1580 rows x 9 columns]",
      "text/html": "<div>\n<style scoped>\n    .dataframe tbody tr th:only-of-type {\n        vertical-align: middle;\n    }\n\n    .dataframe tbody tr th {\n        vertical-align: top;\n    }\n\n    .dataframe thead th {\n        text-align: right;\n    }\n</style>\n<table border=\"1\" class=\"dataframe\">\n  <thead>\n    <tr style=\"text-align: right;\">\n      <th></th>\n      <th>frontend_question_id</th>\n      <th>question__title</th>\n      <th>question__title_slug</th>\n      <th>difficulty</th>\n      <th>paid_only</th>\n      <th>is_new_question</th>\n      <th>total_acs</th>\n      <th>total_submitted</th>\n      <th>url</th>\n    </tr>\n    <tr>\n      <th>question_id</th>\n      <th></th>\n      <th></th>\n      <th></th>\n      <th></th>\n      <th></th>\n      <th></th>\n      <th></th>\n      <th></th>\n      <th></th>\n    </tr>\n  </thead>\n  <tbody>\n    <tr>\n      <th>1</th>\n      <td>1</td>\n      <td>Two Sum</td>\n      <td>two-sum</td>\n      <td>1</td>\n      <td>False</td>\n      <td>False</td>\n      <td>3283755</td>\n      <td>7179332</td>\n      <td>https://leetcode.com/problems/two-sum</td>\n    </tr>\n    <tr>\n      <th>2</th>\n      <td>2</td>\n      <td>Add Two Numbers</td>\n      <td>add-two-numbers</td>\n      <td>2</td>\n      <td>False</td>\n      <td>False</td>\n      <td>1531080</td>\n      <td>4491653</td>\n      <td>https://leetcode.com/problems/add-two-numbers</td>\n    </tr>\n    <tr>\n      <th>3</th>\n      <td>3</td>\n      <td>Longest Substring Without Repeating Characters</td>\n      <td>longest-substring-without-repeating-characters</td>\n      <td>2</td>\n      <td>False</td>\n      <td>False</td>\n      <td>1698681</td>\n      <td>5560543</td>\n      <td>https://leetcode.com/problems/longest-substrin...</td>\n    </tr>\n    <tr>\n      <th>4</th>\n      <td>4</td>\n      <td>Median of Two Sorted Arrays</td>\n      <td>median-of-two-sorted-arrays</td>\n      <td>3</td>\n      <td>False</td>\n      <td>False</td>\n      <td>738381</td>\n      <td>2472571</td>\n      <td>https://leetcode.com/problems/median-of-two-so...</td>\n    </tr>\n    <tr>\n      <th>5</th>\n      <td>5</td>\n      <td>Longest Palindromic Substring</td>\n      <td>longest-palindromic-substring</td>\n      <td>2</td>\n      <td>False</td>\n      <td>False</td>\n      <td>1022773</td>\n      <td>3456856</td>\n      <td>https://leetcode.com/problems/longest-palindro...</td>\n    </tr>\n    <tr>\n      <th>...</th>\n      <td>...</td>\n      <td>...</td>\n      <td>...</td>\n      <td>...</td>\n      <td>...</td>\n      <td>...</td>\n      <td>...</td>\n      <td>...</td>\n      <td>...</td>\n    </tr>\n    <tr>\n      <th>1703</th>\n      <td>1564</td>\n      <td>Put Boxes Into the Warehouse I</td>\n      <td>put-boxes-into-the-warehouse-i</td>\n      <td>2</td>\n      <td>True</td>\n      <td>False</td>\n      <td>978</td>\n      <td>1429</td>\n      <td>https://leetcode.com/problems/put-boxes-into-t...</td>\n    </tr>\n    <tr>\n      <th>1712</th>\n      <td>1565</td>\n      <td>Unique Orders and Customers Per Month</td>\n      <td>unique-orders-and-customers-per-month</td>\n      <td>1</td>\n      <td>True</td>\n      <td>False</td>\n      <td>1145</td>\n      <td>1402</td>\n      <td>https://leetcode.com/problems/unique-orders-an...</td>\n    </tr>\n    <tr>\n      <th>1713</th>\n      <td>1570</td>\n      <td>Dot Product of Two Sparse Vectors</td>\n      <td>dot-product-of-two-sparse-vectors</td>\n      <td>2</td>\n      <td>True</td>\n      <td>True</td>\n      <td>1557</td>\n      <td>1660</td>\n      <td>https://leetcode.com/problems/dot-product-of-t...</td>\n    </tr>\n    <tr>\n      <th>1718</th>\n      <td>1571</td>\n      <td>Warehouse Manager</td>\n      <td>warehouse-manager</td>\n      <td>1</td>\n      <td>True</td>\n      <td>True</td>\n      <td>989</td>\n      <td>1071</td>\n      <td>https://leetcode.com/problems/warehouse-manager</td>\n    </tr>\n    <tr>\n      <th>1719</th>\n      <td>1580</td>\n      <td>Put Boxes Into the Warehouse II</td>\n      <td>put-boxes-into-the-warehouse-ii</td>\n      <td>2</td>\n      <td>True</td>\n      <td>True</td>\n      <td>155</td>\n      <td>258</td>\n      <td>https://leetcode.com/problems/put-boxes-into-t...</td>\n    </tr>\n  </tbody>\n</table>\n<p>1580 rows × 9 columns</p>\n</div>"
     },
     "metadata": {},
     "execution_count": 3
    }
   ],
   "source": [
    "df"
   ]
  },
  {
   "cell_type": "code",
   "execution_count": 4,
   "metadata": {
    "tags": []
   },
   "outputs": [],
   "source": [
    "difficulty_map = {1: 'Easy', 2: 'Medium', 3: 'Hard'}\n",
    "for i in df.index:\n",
    "    df.loc[i, 'difficulty'] = difficulty_map[df.loc[i]['difficulty']]"
   ]
  },
  {
   "cell_type": "code",
   "execution_count": 5,
   "metadata": {
    "tags": []
   },
   "outputs": [],
   "source": [
    "df['Title'] = \"<a href='\" + df['url'] + \"'>\" + df['question__title'] + \"</a>\""
   ]
  },
  {
   "cell_type": "code",
   "execution_count": 6,
   "metadata": {},
   "outputs": [],
   "source": [
    "df.rename(columns={'frontend_question_id': 'id', 'paid_only': 'Paid Only', 'is_new_question': 'New Question', 'difficulty': 'Difficulty'}, inplace=True, errors='raise')"
   ]
  },
  {
   "cell_type": "code",
   "execution_count": 7,
   "metadata": {},
   "outputs": [],
   "source": [
    "new_df = df[['id', 'Title', 'Difficulty', 'Paid Only', 'New Question']]"
   ]
  },
  {
   "cell_type": "code",
   "execution_count": 8,
   "metadata": {},
   "outputs": [
    {
     "output_type": "execute_result",
     "data": {
      "text/plain": "               id                                              Title  \\\nquestion_id                                                            \n1               1  <a href='https://leetcode.com/problems/two-sum...   \n2               2  <a href='https://leetcode.com/problems/add-two...   \n3               3  <a href='https://leetcode.com/problems/longest...   \n4               4  <a href='https://leetcode.com/problems/median-...   \n5               5  <a href='https://leetcode.com/problems/longest...   \n...           ...                                                ...   \n1703         1564  <a href='https://leetcode.com/problems/put-box...   \n1712         1565  <a href='https://leetcode.com/problems/unique-...   \n1713         1570  <a href='https://leetcode.com/problems/dot-pro...   \n1718         1571  <a href='https://leetcode.com/problems/warehou...   \n1719         1580  <a href='https://leetcode.com/problems/put-box...   \n\n            Difficulty  Paid Only  New Question  \nquestion_id                                      \n1                 Easy      False         False  \n2               Medium      False         False  \n3               Medium      False         False  \n4                 Hard      False         False  \n5               Medium      False         False  \n...                ...        ...           ...  \n1703            Medium       True         False  \n1712              Easy       True         False  \n1713            Medium       True          True  \n1718              Easy       True          True  \n1719            Medium       True          True  \n\n[1580 rows x 5 columns]",
      "text/html": "<div>\n<style scoped>\n    .dataframe tbody tr th:only-of-type {\n        vertical-align: middle;\n    }\n\n    .dataframe tbody tr th {\n        vertical-align: top;\n    }\n\n    .dataframe thead th {\n        text-align: right;\n    }\n</style>\n<table border=\"1\" class=\"dataframe\">\n  <thead>\n    <tr style=\"text-align: right;\">\n      <th></th>\n      <th>id</th>\n      <th>Title</th>\n      <th>Difficulty</th>\n      <th>Paid Only</th>\n      <th>New Question</th>\n    </tr>\n    <tr>\n      <th>question_id</th>\n      <th></th>\n      <th></th>\n      <th></th>\n      <th></th>\n      <th></th>\n    </tr>\n  </thead>\n  <tbody>\n    <tr>\n      <th>1</th>\n      <td>1</td>\n      <td>&lt;a href='https://leetcode.com/problems/two-sum...</td>\n      <td>Easy</td>\n      <td>False</td>\n      <td>False</td>\n    </tr>\n    <tr>\n      <th>2</th>\n      <td>2</td>\n      <td>&lt;a href='https://leetcode.com/problems/add-two...</td>\n      <td>Medium</td>\n      <td>False</td>\n      <td>False</td>\n    </tr>\n    <tr>\n      <th>3</th>\n      <td>3</td>\n      <td>&lt;a href='https://leetcode.com/problems/longest...</td>\n      <td>Medium</td>\n      <td>False</td>\n      <td>False</td>\n    </tr>\n    <tr>\n      <th>4</th>\n      <td>4</td>\n      <td>&lt;a href='https://leetcode.com/problems/median-...</td>\n      <td>Hard</td>\n      <td>False</td>\n      <td>False</td>\n    </tr>\n    <tr>\n      <th>5</th>\n      <td>5</td>\n      <td>&lt;a href='https://leetcode.com/problems/longest...</td>\n      <td>Medium</td>\n      <td>False</td>\n      <td>False</td>\n    </tr>\n    <tr>\n      <th>...</th>\n      <td>...</td>\n      <td>...</td>\n      <td>...</td>\n      <td>...</td>\n      <td>...</td>\n    </tr>\n    <tr>\n      <th>1703</th>\n      <td>1564</td>\n      <td>&lt;a href='https://leetcode.com/problems/put-box...</td>\n      <td>Medium</td>\n      <td>True</td>\n      <td>False</td>\n    </tr>\n    <tr>\n      <th>1712</th>\n      <td>1565</td>\n      <td>&lt;a href='https://leetcode.com/problems/unique-...</td>\n      <td>Easy</td>\n      <td>True</td>\n      <td>False</td>\n    </tr>\n    <tr>\n      <th>1713</th>\n      <td>1570</td>\n      <td>&lt;a href='https://leetcode.com/problems/dot-pro...</td>\n      <td>Medium</td>\n      <td>True</td>\n      <td>True</td>\n    </tr>\n    <tr>\n      <th>1718</th>\n      <td>1571</td>\n      <td>&lt;a href='https://leetcode.com/problems/warehou...</td>\n      <td>Easy</td>\n      <td>True</td>\n      <td>True</td>\n    </tr>\n    <tr>\n      <th>1719</th>\n      <td>1580</td>\n      <td>&lt;a href='https://leetcode.com/problems/put-box...</td>\n      <td>Medium</td>\n      <td>True</td>\n      <td>True</td>\n    </tr>\n  </tbody>\n</table>\n<p>1580 rows × 5 columns</p>\n</div>"
     },
     "metadata": {},
     "execution_count": 8
    }
   ],
   "source": [
    "new_df"
   ]
  },
  {
   "cell_type": "code",
   "execution_count": 9,
   "metadata": {},
   "outputs": [],
   "source": [
    "new_df.to_html(\"../Data/problems.md\", escape=False, index=False)\n",
    "new_df.to_html(\"../Data/problems.html\", escape=False, index=False)"
   ]
  },
  {
   "cell_type": "code",
   "execution_count": null,
   "metadata": {},
   "outputs": [],
   "source": []
  }
 ]
}