{
 "metadata": {
  "language_info": {
   "codemirror_mode": {
    "name": "ipython",
    "version": 3
   },
   "file_extension": ".py",
   "mimetype": "text/x-python",
   "name": "python",
   "nbconvert_exporter": "python",
   "pygments_lexer": "ipython3",
   "version": "3.8.3-final"
  },
  "orig_nbformat": 2,
  "kernelspec": {
   "name": "python38364bitbaseconda20343f4077f84ed99da6576714891518",
   "language": "python",
   "display_name": "Python 3.8.3 64-bit ('base': conda)"
  }
 },
 "nbformat": 4,
 "nbformat_minor": 2,
 "cells": [
  {
   "cell_type": "code",
   "execution_count": 14,
   "metadata": {},
   "outputs": [],
   "source": [
    "import requests\n",
    "import json\n",
    "import pandas as pd"
   ]
  },
  {
   "cell_type": "code",
   "execution_count": 15,
   "metadata": {},
   "outputs": [],
   "source": [
    "res = requests.get(\"https://leetcode.com/api/problems/all/\")"
   ]
  },
  {
   "cell_type": "code",
   "execution_count": 16,
   "metadata": {},
   "outputs": [],
   "source": [
    "all_data = json.loads(res.text)"
   ]
  },
  {
   "cell_type": "code",
   "execution_count": 17,
   "metadata": {},
   "outputs": [],
   "source": [
    "all_problems = all_data['stat_status_pairs']"
   ]
  },
  {
   "cell_type": "code",
   "execution_count": 18,
   "metadata": {},
   "outputs": [],
   "source": [
    "parsed_data = []\n",
    "for problem in all_problems:\n",
    "    parsed_data_dict = {}\n",
    "    parsed_data_dict['difficulty'] = problem['difficulty']['level']\n",
    "    parsed_data_dict['paid_only'] = problem['paid_only']\n",
    "    parsed_data_dict['is_new_question'] = problem['stat']['is_new_question']\n",
    "    parsed_data_dict['question_id'] = problem['stat']['question_id']\n",
    "    parsed_data_dict['frontend_question_id'] = problem['stat']['frontend_question_id']\n",
    "    parsed_data_dict['total_acs'] = problem['stat']['total_acs']\n",
    "    parsed_data_dict['total_submitted'] = problem['stat']['total_submitted']\n",
    "    parsed_data_dict['question__title'] = problem['stat']['question__title']\n",
    "    parsed_data_dict['question__title_slug'] = problem['stat']['question__title_slug']\n",
    "    parsed_data.append(parsed_data_dict)\n"
   ]
  },
  {
   "cell_type": "code",
   "execution_count": 19,
   "metadata": {},
   "outputs": [],
   "source": [
    "df = pd.DataFrame(columns=['question_id', 'frontend_question_id', 'question__title', 'question__title_slug', 'difficulty', 'paid_only', 'is_new_question', 'total_acs', 'total_submitted'])\n",
    "for problem in parsed_data:\n",
    "    df = df.append(problem, ignore_index=True)"
   ]
  },
  {
   "cell_type": "code",
   "execution_count": 20,
   "metadata": {},
   "outputs": [],
   "source": [
    "df.sort_index(inplace=True)"
   ]
  },
  {
   "cell_type": "code",
   "execution_count": 21,
   "metadata": {},
   "outputs": [],
   "source": [
    "df.to_csv(\"leetcode_problems.csv\", index=False)"
   ]
  },
  {
   "cell_type": "code",
   "execution_count": 22,
   "metadata": {},
   "outputs": [],
   "source": [
    "df1 = pd.DataFrame(index=['question_id'], columns=['frontend_question_id', 'question__title', 'question__title_slug', 'difficulty', 'paid_only', 'is_new_question', 'total_acs', 'total_submitted'])\n",
    "for problem in all_problems:\n",
    "    difficulty = problem['difficulty']['level']\n",
    "    paid_only = problem['paid_only']\n",
    "    is_new_question = problem['stat']['is_new_question']\n",
    "    question_id = problem['stat']['question_id']\n",
    "    frontend_question_id = problem['stat']['frontend_question_id']\n",
    "    total_acs = problem['stat']['total_acs']\n",
    "    total_submitted = problem['stat']['total_submitted']\n",
    "    question__title = problem['stat']['question__title']\n",
    "    question__title_slug = problem['stat']['question__title_slug']\n",
    "    df1.loc[question_id] = [frontend_question_id, question__title, question__title_slug, difficulty, paid_only, is_new_question, total_acs, total_submitted]\n",
    "df1.dropna(how='all', inplace=True)\n"
   ]
  },
  {
   "cell_type": "code",
   "execution_count": 23,
   "metadata": {},
   "outputs": [],
   "source": [
    "df1.sort_index(inplace=True)"
   ]
  },
  {
   "cell_type": "code",
   "execution_count": 24,
   "outputs": [],
   "source": [
    "df1['url'] = 'https://leetcode.com/problems/' + df1['question__title_slug']"
   ],
   "metadata": {
    "collapsed": false,
    "pycharm": {
     "name": "#%%\n"
    }
   }
  },
  {
   "cell_type": "code",
   "execution_count": 25,
   "metadata": {},
   "outputs": [],
   "source": [
    "df1.to_csv('../Data/leetcode_problems.csv', index_label='question_id')"
   ]
  },
  {
   "cell_type": "code",
   "execution_count": 13,
   "metadata": {},
   "outputs": [],
   "source": []
  }
 ]
}