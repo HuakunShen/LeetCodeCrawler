{
 "metadata": {
  "language_info": {
   "codemirror_mode": {
    "name": "ipython",
    "version": 3
   },
   "file_extension": ".py",
   "mimetype": "text/x-python",
   "name": "python",
   "nbconvert_exporter": "python",
   "pygments_lexer": "ipython3",
   "version": "3.8.5-final"
  },
  "orig_nbformat": 2,
  "kernelspec": {
   "name": "python38564bitwebconda21e6b8fa634d4dd1847a1aadd51ea87d",
   "display_name": "Python 3.8.5 64-bit ('web': conda)"
  }
 },
 "nbformat": 4,
 "nbformat_minor": 2,
 "cells": [
  {
   "cell_type": "code",
   "execution_count": 18,
   "metadata": {},
   "outputs": [],
   "source": [
    "import requests\n",
    "import json\n",
    "import pandas as pd"
   ]
  },
  {
   "cell_type": "code",
   "execution_count": 11,
   "metadata": {},
   "outputs": [],
   "source": [
    "with open('./LeetCodeCrawler/template/body_template.json', 'r') as file:\n",
    "  payload_template = json.load(file)"
   ]
  },
  {
   "cell_type": "code",
   "execution_count": 25,
   "metadata": {},
   "outputs": [],
   "source": [
    "payload = payload_template.copy()\n",
    "payload[\"variables\"][\"titleSlug\"] = 'longest-palindromic-substring'"
   ]
  },
  {
   "cell_type": "code",
   "execution_count": 27,
   "metadata": {},
   "outputs": [
    {
     "output_type": "execute_result",
     "data": {
      "text/plain": "200"
     },
     "metadata": {},
     "execution_count": 27
    }
   ],
   "source": [
    "headers = {\n",
    "    \"user-agent\": \"Mozilla/5.0 (Macintosh; Intel Mac OS X 10_15_6) AppleWebKit/537.36 (KHTML, like Gecko) Chrome/85.0.4183.83 Safari/537.36\",\n",
    "    \"content-length\": str(len(json.dumps(payload))),\n",
    "    \"content-type\": \"application/json\",\n",
    "    \"accept-encoding\": \"gzip, deflate, br\",\n",
    "    \"Connection\": \"keep-alive\",\n",
    "    \"Accept\": \"*/*\",\n",
    "    \"origin\": \"https://leetcode.com\",\n",
    "    \"referer\": \"https://leetcode.com/problems/two-sum/\"\n",
    "}\n",
    "response = requests.post(\"https://leetcode.com/graphql\", headers=headers, data=json.dumps(payload))\n",
    "response.status_code"
   ]
  },
  {
   "cell_type": "code",
   "execution_count": 16,
   "metadata": {},
   "outputs": [
    {
     "output_type": "execute_result",
     "data": {
      "text/plain": "{'data': {'question': {'questionId': '5',\n   'questionFrontendId': '5',\n   'boundTopicId': None,\n   'title': 'Longest Palindromic Substring',\n   'titleSlug': 'longest-palindromic-substring',\n   'content': '<p>Given a string <strong>s</strong>, find the longest palindromic substring in <strong>s</strong>. You may assume that the maximum length of <strong>s</strong> is 1000.</p>\\r\\n\\r\\n<p><strong>Example 1:</strong></p>\\r\\n\\r\\n<pre>\\r\\n<strong>Input:</strong> &quot;babad&quot;\\r\\n<strong>Output:</strong> &quot;bab&quot;\\r\\n<strong>Note:</strong> &quot;aba&quot; is also a valid answer.\\r\\n</pre>\\r\\n\\r\\n<p><strong>Example 2:</strong></p>\\r\\n\\r\\n<pre>\\r\\n<strong>Input:</strong> &quot;cbbd&quot;\\r\\n<strong>Output:</strong> &quot;bb&quot;\\r\\n</pre>\\r\\n',\n   'translatedTitle': None,\n   'translatedContent': None,\n   'isPaidOnly': False,\n   'difficulty': 'Medium',\n   'likes': 7869,\n   'dislikes': 568,\n   'isLiked': None,\n   'similarQuestions': '[{\"title\": \"Shortest Palindrome\", \"titleSlug\": \"shortest-palindrome\", \"difficulty\": \"Hard\", \"translatedTitle\": null}, {\"title\": \"Palindrome Permutation\", \"titleSlug\": \"palindrome-permutation\", \"difficulty\": \"Easy\", \"translatedTitle\": null}, {\"title\": \"Palindrome Pairs\", \"titleSlug\": \"palindrome-pairs\", \"difficulty\": \"Hard\", \"translatedTitle\": null}, {\"title\": \"Longest Palindromic Subsequence\", \"titleSlug\": \"longest-palindromic-subsequence\", \"difficulty\": \"Medium\", \"translatedTitle\": null}, {\"title\": \"Palindromic Substrings\", \"titleSlug\": \"palindromic-substrings\", \"difficulty\": \"Medium\", \"translatedTitle\": null}]',\n   'contributors': [],\n   'topicTags': [{'name': 'String',\n     'slug': 'string',\n     'translatedName': None,\n     '__typename': 'TopicTagNode'},\n    {'name': 'Dynamic Programming',\n     'slug': 'dynamic-programming',\n     'translatedName': None,\n     '__typename': 'TopicTagNode'}],\n   'companyTagStats': None,\n   'codeSnippets': [{'lang': 'C++',\n     'langSlug': 'cpp',\n     'code': 'class Solution {\\npublic:\\n    string longestPalindrome(string s) {\\n        \\n    }\\n};',\n     '__typename': 'CodeSnippetNode'},\n    {'lang': 'Java',\n     'langSlug': 'java',\n     'code': 'class Solution {\\n    public String longestPalindrome(String s) {\\n        \\n    }\\n}',\n     '__typename': 'CodeSnippetNode'},\n    {'lang': 'Python',\n     'langSlug': 'python',\n     'code': 'class Solution(object):\\n    def longestPalindrome(self, s):\\n        \"\"\"\\n        :type s: str\\n        :rtype: str\\n        \"\"\"\\n        ',\n     '__typename': 'CodeSnippetNode'},\n    {'lang': 'Python3',\n     'langSlug': 'python3',\n     'code': 'class Solution:\\n    def longestPalindrome(self, s: str) -> str:\\n        ',\n     '__typename': 'CodeSnippetNode'},\n    {'lang': 'C',\n     'langSlug': 'c',\n     'code': '\\n\\nchar * longestPalindrome(char * s){\\n\\n}',\n     '__typename': 'CodeSnippetNode'},\n    {'lang': 'C#',\n     'langSlug': 'csharp',\n     'code': 'public class Solution {\\n    public string LongestPalindrome(string s) {\\n        \\n    }\\n}',\n     '__typename': 'CodeSnippetNode'},\n    {'lang': 'JavaScript',\n     'langSlug': 'javascript',\n     'code': '/**\\n * @param {string} s\\n * @return {string}\\n */\\nvar longestPalindrome = function(s) {\\n    \\n};',\n     '__typename': 'CodeSnippetNode'},\n    {'lang': 'Ruby',\n     'langSlug': 'ruby',\n     'code': '# @param {String} s\\n# @return {String}\\ndef longest_palindrome(s)\\n    \\nend',\n     '__typename': 'CodeSnippetNode'},\n    {'lang': 'Swift',\n     'langSlug': 'swift',\n     'code': 'class Solution {\\n    func longestPalindrome(_ s: String) -> String {\\n        \\n    }\\n}',\n     '__typename': 'CodeSnippetNode'},\n    {'lang': 'Go',\n     'langSlug': 'golang',\n     'code': 'func longestPalindrome(s string) string {\\n    \\n}',\n     '__typename': 'CodeSnippetNode'},\n    {'lang': 'Scala',\n     'langSlug': 'scala',\n     'code': 'object Solution {\\n    def longestPalindrome(s: String): String = {\\n        \\n    }\\n}',\n     '__typename': 'CodeSnippetNode'},\n    {'lang': 'Kotlin',\n     'langSlug': 'kotlin',\n     'code': 'class Solution {\\n    fun longestPalindrome(s: String): String {\\n        \\n    }\\n}',\n     '__typename': 'CodeSnippetNode'},\n    {'lang': 'Rust',\n     'langSlug': 'rust',\n     'code': 'impl Solution {\\n    pub fn longest_palindrome(s: String) -> String {\\n        \\n    }\\n}',\n     '__typename': 'CodeSnippetNode'},\n    {'lang': 'PHP',\n     'langSlug': 'php',\n     'code': 'class Solution {\\n\\n    /**\\n     * @param String $s\\n     * @return String\\n     */\\n    function longestPalindrome($s) {\\n        \\n    }\\n}',\n     '__typename': 'CodeSnippetNode'},\n    {'lang': 'TypeScript',\n     'langSlug': 'typescript',\n     'code': 'function longestPalindrome(s: string): string {\\n\\n};',\n     '__typename': 'CodeSnippetNode'}],\n   'stats': '{\"totalAccepted\": \"1M\", \"totalSubmission\": \"3.5M\", \"totalAcceptedRaw\": 1023356, \"totalSubmissionRaw\": 3458444, \"acRate\": \"29.6%\"}',\n   'hints': ['How can we reuse a previously computed palindrome to compute a larger palindrome?',\n    'If “aba” is a palindrome, is “xabax” and palindrome? Similarly is “xabay” a palindrome?',\n    'Complexity based hint:</br>\\r\\nIf we use brute-force and check whether for every start and end position a substring is a palindrome we have O(n^2) start - end pairs and O(n) palindromic checks. Can we reduce the time for palindromic checks to O(1) by reusing some previous computation.'],\n   'solution': {'id': '34',\n    'canSeeDetail': True,\n    'paidOnly': False,\n    '__typename': 'ArticleNode'},\n   'status': None,\n   'sampleTestCase': '\"babad\"',\n   'metaData': '{ \\r\\n  \"name\": \"longestPalindrome\",\\r\\n  \"params\": [\\r\\n    { \\r\\n      \"name\": \"s\",\\r\\n      \"type\": \"string\"\\r\\n    }\\r\\n  ],\\r\\n  \"return\": {\\r\\n    \"type\": \"string\"\\r\\n  }\\r\\n}',\n   'judgerAvailable': True,\n   'judgeType': 'large',\n   'mysqlSchemas': [],\n   'enableRunCode': True,\n   'enableTestMode': False,\n   'enableDebugger': True,\n   'envInfo': '{\"cpp\": [\"C++\", \"<p>Compiled with <code> clang 9 </code> using the latest C++ 17 standard.</p>\\\\r\\\\n\\\\r\\\\n<p>Your code is compiled with level one optimization (<code>-O1</code>). <a href=\\\\\"https://github.com/google/sanitizers/wiki/AddressSanitizer\\\\\" target=\\\\\"_blank\\\\\">AddressSanitizer</a> is also enabled to help detect out-of-bounds and use-after-free bugs.</p>\\\\r\\\\n\\\\r\\\\n<p>Most standard library headers are already included automatically for your convenience.</p>\"], \"java\": [\"Java\", \"<p><code>Java SE 13</code>.</p>\\\\r\\\\n\\\\r\\\\n<p>Most standard library headers are already included automatically for your convenience.</p>\\\\r\\\\n<p>Includes <code>Pair</code> class from https://docs.oracle.com/javase/8/javafx/api/javafx/util/Pair.html.</p>\"], \"python\": [\"Python\", \"<p><code>Python 2.7.12</code>.</p>\\\\r\\\\n\\\\r\\\\n<p>Most libraries are already imported automatically for your convenience, such as <a href=\\\\\"https://docs.python.org/2/library/array.html\\\\\" target=\\\\\"_blank\\\\\">array</a>, <a href=\\\\\"https://docs.python.org/2/library/bisect.html\\\\\" target=\\\\\"_blank\\\\\">bisect</a>, <a href=\\\\\"https://docs.python.org/2/library/collections.html\\\\\" target=\\\\\"_blank\\\\\">collections</a>. If you need more libraries, you can import it yourself.</p>\\\\r\\\\n\\\\r\\\\n<p>For Map/TreeMap data structure, you may use <a href=\\\\\"http://www.grantjenks.com/docs/sortedcontainers/\\\\\" target=\\\\\"_blank\\\\\">sortedcontainers</a> library.</p>\\\\r\\\\n\\\\r\\\\n<p>Note that Python 2.7 <a href=\\\\\"https://www.python.org/dev/peps/pep-0373/\\\\\" target=\\\\\"_blank\\\\\">will not be maintained past 2020</a>. For the latest Python, please choose Python3 instead.</p>\"], \"c\": [\"C\", \"<p>Compiled with <code>gcc 8.2</code> using the gnu99 standard.</p>\\\\r\\\\n\\\\r\\\\n<p>Your code is compiled with level one optimization (<code>-O1</code>). <a href=\\\\\"https://github.com/google/sanitizers/wiki/AddressSanitizer\\\\\" target=\\\\\"_blank\\\\\">AddressSanitizer</a> is also enabled to help detect out-of-bounds and use-after-free bugs.</p>\\\\r\\\\n\\\\r\\\\n<p>Most standard library headers are already included automatically for your convenience.</p>\\\\r\\\\n\\\\r\\\\n<p>For hash table operations, you may use <a href=\\\\\"https://troydhanson.github.io/uthash/\\\\\" target=\\\\\"_blank\\\\\">uthash</a>. \\\\\"uthash.h\\\\\" is included by default. Below are some examples:</p>\\\\r\\\\n\\\\r\\\\n<p><b>1. Adding an item to a hash.</b>\\\\r\\\\n<pre>\\\\r\\\\nstruct hash_entry {\\\\r\\\\n    int id;            /* we\\'ll use this field as the key */\\\\r\\\\n    char name[10];\\\\r\\\\n    UT_hash_handle hh; /* makes this structure hashable */\\\\r\\\\n};\\\\r\\\\n\\\\r\\\\nstruct hash_entry *users = NULL;\\\\r\\\\n\\\\r\\\\nvoid add_user(struct hash_entry *s) {\\\\r\\\\n    HASH_ADD_INT(users, id, s);\\\\r\\\\n}\\\\r\\\\n</pre>\\\\r\\\\n</p>\\\\r\\\\n\\\\r\\\\n<p><b>2. Looking up an item in a hash:</b>\\\\r\\\\n<pre>\\\\r\\\\nstruct hash_entry *find_user(int user_id) {\\\\r\\\\n    struct hash_entry *s;\\\\r\\\\n    HASH_FIND_INT(users, &user_id, s);\\\\r\\\\n    return s;\\\\r\\\\n}\\\\r\\\\n</pre>\\\\r\\\\n</p>\\\\r\\\\n\\\\r\\\\n<p><b>3. Deleting an item in a hash:</b>\\\\r\\\\n<pre>\\\\r\\\\nvoid delete_user(struct hash_entry *user) {\\\\r\\\\n    HASH_DEL(users, user);  \\\\r\\\\n}\\\\r\\\\n</pre>\\\\r\\\\n</p>\"], \"csharp\": [\"C#\", \"<p><a href=\\\\\"https://docs.microsoft.com/en-us/dotnet/csharp/whats-new/csharp-8\\\\\" target=\\\\\"_blank\\\\\">C# 8.0 </a></p>\\\\r\\\\n\\\\r\\\\n<p>Your code is compiled with debug flag enabled (<code>/debug</code>).</p>\"], \"javascript\": [\"JavaScript\", \"<p><code>Node.js 14.3.0</code>.</p>\\\\r\\\\n\\\\r\\\\n<p>Your code is run with <code>--harmony</code> flag, enabling <a href=\\\\\"http://node.green/\\\\\" target=\\\\\"_blank\\\\\">new ES6 features</a>.</p>\\\\r\\\\n\\\\r\\\\n<p><a href=\\\\\"https://lodash.com\\\\\" target=\\\\\"_blank\\\\\">lodash.js</a> library is included by default.</p>\\\\r\\\\n\\\\r\\\\n<p>For Priority Queue / Queue data structures, you may use <a href=\\\\\"https://github.com/datastructures-js/priority-queue\\\\\" target=\\\\\"_blank\\\\\">datastructures-js/priority-queue</a> and <a href=\\\\\"https://github.com/datastructures-js/queue\\\\\" target=\\\\\"_blank\\\\\">datastructures-js/queue</a>.</p>\"], \"ruby\": [\"Ruby\", \"<p><code>Ruby 2.4.5</code></p>\\\\r\\\\n\\\\r\\\\n<p>Some common data structure implementations are provided in the Algorithms module: https://www.rubydoc.info/github/kanwei/algorithms/Algorithms</p>\"], \"swift\": [\"Swift\", \"<p><code>Swift 5.0.1</code>.</p>\"], \"golang\": [\"Go\", \"<p><code>Go 1.13</code>.</p>\"], \"python3\": [\"Python3\", \"<p><code>Python 3.8</code>.</p>\\\\r\\\\n\\\\r\\\\n<p>Most libraries are already imported automatically for your convenience, such as <a href=\\\\\"https://docs.python.org/3/library/array.html\\\\\" target=\\\\\"_blank\\\\\">array</a>, <a href=\\\\\"https://docs.python.org/3/library/bisect.html\\\\\" target=\\\\\"_blank\\\\\">bisect</a>, <a href=\\\\\"https://docs.python.org/3/library/collections.html\\\\\" target=\\\\\"_blank\\\\\">collections</a>. If you need more libraries, you can import it yourself.</p>\\\\r\\\\n\\\\r\\\\n<p>For Map/TreeMap data structure, you may use <a href=\\\\\"http://www.grantjenks.com/docs/sortedcontainers/\\\\\" target=\\\\\"_blank\\\\\">sortedcontainers</a> library.</p>\"], \"scala\": [\"Scala\", \"<p><code>Scala 2.13</code>.</p>\"], \"kotlin\": [\"Kotlin\", \"<p><code>Kotlin 1.3.10</code>.</p>\"], \"rust\": [\"Rust\", \"<p><code>Rust 1.40.0</code></p>\\\\r\\\\n\\\\r\\\\n<p>Supports <a href=\\\\\"https://crates.io/crates/rand\\\\\" target=\\\\\"_blank\\\\\">rand</a>\\\\u00a0from crates.io</p>\"], \"php\": [\"PHP\", \"<p><code>PHP 7.2</code>.</p>\\\\r\\\\n<p>With bcmath module</p>\"], \"typescript\": [\"Typescript\", \"<p><code>Node.js 14.3.0</code>.</p>\\\\r\\\\n\\\\r\\\\n<p>Your code is run with <code>--harmony</code> flag, enabling <a href=\\\\\"http://node.green/\\\\\" target=\\\\\"_blank\\\\\">new ES6 features</a>.</p>\\\\r\\\\n\\\\r\\\\n<p><a href=\\\\\"https://lodash.com\\\\\" target=\\\\\"_blank\\\\\">lodash.js</a> library is included by default.</p>\"]}',\n   'libraryUrl': None,\n   'adminUrl': None,\n   '__typename': 'QuestionNode'}}}"
     },
     "metadata": {},
     "execution_count": 16
    }
   ],
   "source": [
    "response.json()"
   ]
  }
 ]
}