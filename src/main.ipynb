{
 "metadata": {
  "language_info": {
   "codemirror_mode": {
    "name": "ipython",
    "version": 3
   },
   "file_extension": ".py",
   "mimetype": "text/x-python",
   "name": "python",
   "nbconvert_exporter": "python",
   "pygments_lexer": "ipython3",
   "version": "3.8.5-final"
  },
  "orig_nbformat": 2,
  "kernelspec": {
   "name": "python38564bitwebconda89d4c86f34284616aa8e34da506703aa",
   "display_name": "Python 3.8.5 64-bit ('web': conda)"
  }
 },
 "nbformat": 4,
 "nbformat_minor": 2,
 "cells": [
  {
   "cell_type": "code",
   "execution_count": 17,
   "metadata": {},
   "outputs": [],
   "source": [
    "import os\n",
    "import json\n",
    "import copy\n",
    "import requests\n",
    "import pandas as pd\n",
    "import time"
   ]
  },
  {
   "cell_type": "code",
   "execution_count": 130,
   "metadata": {},
   "outputs": [],
   "source": [
    "df = pd.read_csv('../Data/leetcode_problems.csv', index_col='question_id')\n",
    "slugs = list(df['question__title_slug'])\n",
    "s = requests.Session()\n",
    "template = {\"operationName\":\"questionData\",\"variables\":{\"titleSlug\":None},\"query\":\"query questionData($titleSlug: String!) {\\n  question(titleSlug: $titleSlug) {\\n    questionId\\n    questionFrontendId\\n    boundTopicId\\n    title\\n    titleSlug\\n    content\\n    translatedTitle\\n    translatedContent\\n    isPaidOnly\\n    difficulty\\n    likes\\n    dislikes\\n    isLiked\\n    similarQuestions\\n    contributors {\\n      username\\n      profileUrl\\n      avatarUrl\\n      __typename\\n    }\\n    topicTags {\\n      name\\n      slug\\n      translatedName\\n      __typename\\n    }\\n    companyTagStats\\n    codeSnippets {\\n      lang\\n      langSlug\\n      code\\n      __typename\\n    }\\n    stats\\n    hints\\n    solution {\\n      id\\n      canSeeDetail\\n      paidOnly\\n      __typename\\n    }\\n    status\\n    sampleTestCase\\n    metaData\\n    judgerAvailable\\n    judgeType\\n    mysqlSchemas\\n    enableRunCode\\n    enableTestMode\\n    enableDebugger\\n    envInfo\\n    libraryUrl\\n    adminUrl\\n    __typename\\n  }\\n}\\n\"}"
   ]
  },
  {
   "cell_type": "code",
   "execution_count": 34,
   "metadata": {},
   "outputs": [],
   "source": [
    "def slug_to_qid(slug: str):\n",
    "    search = df[df['question__title_slug'] == slug]\n",
    "    return None if len(search) == 0 else int(search['question_id'])"
   ]
  },
  {
   "cell_type": "code",
   "execution_count": 120,
   "metadata": {
    "tags": []
   },
   "outputs": [],
   "source": [
    "def run(slug):\n",
    "    payload = {\"operationName\":\"questionData\",\"variables\":{\"titleSlug\":slug},\"query\":\"query questionData($titleSlug: String!) {\\n  question(titleSlug: $titleSlug) {\\n    questionId\\n    questionFrontendId\\n    boundTopicId\\n    title\\n    titleSlug\\n    content\\n    translatedTitle\\n    translatedContent\\n    isPaidOnly\\n    difficulty\\n    likes\\n    dislikes\\n    isLiked\\n    similarQuestions\\n    contributors {\\n      username\\n      profileUrl\\n      avatarUrl\\n      __typename\\n    }\\n    topicTags {\\n      name\\n      slug\\n      translatedName\\n      __typename\\n    }\\n    companyTagStats\\n    codeSnippets {\\n      lang\\n      langSlug\\n      code\\n      __typename\\n    }\\n    stats\\n    hints\\n    solution {\\n      id\\n      canSeeDetail\\n      paidOnly\\n      __typename\\n    }\\n    status\\n    sampleTestCase\\n    metaData\\n    judgerAvailable\\n    judgeType\\n    mysqlSchemas\\n    enableRunCode\\n    enableTestMode\\n    enableDebugger\\n    envInfo\\n    libraryUrl\\n    adminUrl\\n    __typename\\n  }\\n}\\n\"}\n",
    "    payload_str = json.dumps(payload)\n",
    "    headers = {\n",
    "        # \"user-agent\": \"Mozilla/5.0 (Windows NT 10.0; Win64; x64) AppleWebKit/537.36 (KHTML, like Gecko) Chrome/84.0.4147.105 Safari/537.36\",\n",
    "        \"content-length\": str(len(payload_str)),\n",
    "        \"content-type\": \"application/json\",\n",
    "        # \"accept-encoding\": \"gzip, deflate, br\",\n",
    "        \"Connection\": \"keep-alive\",\n",
    "        \"Accept\": \"*/*\",\n",
    "        \"origin\": \"https://leetcode.com\",\n",
    "        \"referer\": \"https://leetcode.com/problems/two-sum/\"\n",
    "    }\n",
    "    response = s.post(\"https://leetcode.com/graphql\", headers=headers, json=payload)\n",
    "    question = response.json()['data']['question']\n",
    "    question_id = int(question['questionId'])\n",
    "    similar_question_ids = [slug_to_qid(problem['titleSlug']) for problem in json.loads(question['similarQuestions'])]\n",
    "    topicTags = [{'name': tag['name'], 'slug': tag['slug']} for tag in question['topicTags']]\n",
    "    return {\n",
    "        \"question_id\": question_id, \n",
    "        \"topicTags\": topicTags, \n",
    "        \"similar_question_ids\": similar_question_ids,\n",
    "        \"likes\": question[\"likes\"],\n",
    "        \"dislikes\": question[\"dislikes\"]\n",
    "    }"
   ]
  },
  {
   "cell_type": "code",
   "execution_count": 121,
   "metadata": {
    "tags": []
   },
   "outputs": [],
   "source": [
    "def main():\n",
    "    result = []\n",
    "    for index, slug in enumerate(slugs):\n",
    "        if index > 5:\n",
    "            break\n",
    "        result.append(run(slug))\n",
    "    return result"
   ]
  },
  {
   "cell_type": "code",
   "execution_count": 122,
   "metadata": {},
   "outputs": [],
   "source": [
    "results = main()"
   ]
  },
  {
   "cell_type": "code",
   "execution_count": 123,
   "metadata": {
    "tags": []
   },
   "outputs": [
    {
     "output_type": "execute_result",
     "data": {
      "text/plain": "[{'question_id': 1,\n  'topicTags': [{'name': 'Array', 'slug': 'array'},\n   {'name': 'Hash Table', 'slug': 'hash-table'}],\n  'similar_question_ids': [15, 18, 167, 170, 560, 653, 1083],\n  'likes': 16782,\n  'dislikes': 609},\n {'question_id': 2,\n  'topicTags': [{'name': 'Linked List', 'slug': 'linked-list'},\n   {'name': 'Math', 'slug': 'math'}],\n  'similar_question_ids': [43, 67, 371, 415, 445, 1031],\n  'likes': 9183,\n  'dislikes': 2309},\n {'question_id': 3,\n  'topicTags': [{'name': 'Hash Table', 'slug': 'hash-table'},\n   {'name': 'Two Pointers', 'slug': 'two-pointers'},\n   {'name': 'String', 'slug': 'string'},\n   {'name': 'Sliding Window', 'slug': 'sliding-window'}],\n  'similar_question_ids': [159, 340, 1034],\n  'likes': 10653,\n  'dislikes': 607},\n {'question_id': 4,\n  'topicTags': [{'name': 'Array', 'slug': 'array'},\n   {'name': 'Binary Search', 'slug': 'binary-search'},\n   {'name': 'Divide and Conquer', 'slug': 'divide-and-conquer'}],\n  'similar_question_ids': [],\n  'likes': 7834,\n  'dislikes': 1226},\n {'question_id': 5,\n  'topicTags': [{'name': 'String', 'slug': 'string'},\n   {'name': 'Dynamic Programming', 'slug': 'dynamic-programming'}],\n  'similar_question_ids': [214, 266, 336, 516, 647],\n  'likes': 7895,\n  'dislikes': 569},\n {'question_id': 6,\n  'topicTags': [{'name': 'String', 'slug': 'string'}],\n  'similar_question_ids': [],\n  'likes': 1832,\n  'dislikes': 4911}]"
     },
     "metadata": {},
     "execution_count": 123
    }
   ],
   "source": [
    "list(results)"
   ]
  },
  {
   "cell_type": "code",
   "execution_count": 133,
   "metadata": {
    "tags": []
   },
   "outputs": [],
   "source": [
    "for question in results:\n",
    "    df.loc[question['question_id'], 'likes'] = question['likes']\n",
    "    df.loc[question['question_id'], 'dislikes'] = question['dislikes']\n",
    "    df.loc[question['question_id'], 'topicTags'] = str(question['topicTags'])\n",
    "    df.loc[question['question_id'], 'similar_question_ids'] = str(question['similar_question_ids'])"
   ]
  },
  {
   "cell_type": "code",
   "execution_count": 134,
   "metadata": {
    "tags": []
   },
   "outputs": [
    {
     "output_type": "stream",
     "name": "stdout",
     "text": "16782.0\n"
    }
   ],
   "source": [
    "print(df.loc[1, 'likes'])"
   ]
  },
  {
   "cell_type": "code",
   "execution_count": 136,
   "metadata": {},
   "outputs": [],
   "source": [
    "df.to_csv(\"../Data/leetcode_problems.csv\")"
   ]
  },
  {
   "cell_type": "code",
   "execution_count": null,
   "metadata": {},
   "outputs": [],
   "source": []
  }
 ]
}