{
 "metadata": {
  "language_info": {
   "codemirror_mode": {
    "name": "ipython",
    "version": 3
   },
   "file_extension": ".py",
   "mimetype": "text/x-python",
   "name": "python",
   "nbconvert_exporter": "python",
   "pygments_lexer": "ipython3",
   "version": "3.7.6-final"
  },
  "orig_nbformat": 2,
  "kernelspec": {
   "name": "python3",
   "language": "python",
   "display_name": "Python 3"
  }
 },
 "nbformat": 4,
 "nbformat_minor": 2,
 "cells": [
  {
   "cell_type": "code",
   "execution_count": 11,
   "metadata": {},
   "outputs": [],
   "source": [
    "import requests\n",
    "import json\n",
    "import pandas as pd"
   ]
  },
  {
   "cell_type": "code",
   "execution_count": 12,
   "metadata": {},
   "outputs": [],
   "source": [
    "res = requests.get(\"https://leetcode.com/api/problems/all/\")"
   ]
  },
  {
   "cell_type": "code",
   "execution_count": 13,
   "metadata": {},
   "outputs": [],
   "source": [
    "all_data = json.loads(res.text)\n",
    "all_problems = all_data['stat_status_pairs']"
   ]
  },
  {
   "cell_type": "code",
   "execution_count": 14,
   "metadata": {},
   "outputs": [],
   "source": [
    "def run_method_1():\n",
    "    parsed_data = []\n",
    "    for problem in all_problems:\n",
    "        parsed_data_dict = {}\n",
    "        parsed_data_dict['difficulty'] = problem['difficulty']['level']\n",
    "        parsed_data_dict['paid_only'] = problem['paid_only']\n",
    "        parsed_data_dict['is_new_question'] = problem['stat']['is_new_question']\n",
    "        parsed_data_dict['question_id'] = problem['stat']['question_id']\n",
    "        parsed_data_dict['frontend_question_id'] = problem['stat']['frontend_question_id']\n",
    "        parsed_data_dict['total_acs'] = problem['stat']['total_acs']\n",
    "        parsed_data_dict['total_submitted'] = problem['stat']['total_submitted']\n",
    "        parsed_data_dict['question__title'] = problem['stat']['question__title']\n",
    "        parsed_data_dict['question__title_slug'] = problem['stat']['question__title_slug']\n",
    "        parsed_data.append(parsed_data_dict)\n",
    "    df = pd.DataFrame(columns=['question_id', 'frontend_question_id', 'question__title', 'question__title_slug', 'difficulty', 'paid_only', 'is_new_question', 'total_acs', 'total_submitted', 'likes', 'dislikes', 'topic_tags', 'similar_question_ids'])\n",
    "    for problem in parsed_data:\n",
    "        df = df.append(problem, ignore_index=True)\n",
    "    df.sort_index(inplace=True)\n",
    "    df.to_csv(\"../Data/leetcode_problems.csv\", index=False)"
   ]
  },
  {
   "cell_type": "code",
   "execution_count": 15,
   "metadata": {
    "tags": []
   },
   "outputs": [
    {
     "output_type": "stream",
     "name": "stdout",
     "text": "Wall time: 7.35 s\n"
    }
   ],
   "source": [
    "%time run_method_1()"
   ]
  },
  {
   "cell_type": "code",
   "execution_count": 16,
   "metadata": {},
   "outputs": [],
   "source": [
    "def run_method_2():\n",
    "    df1 = pd.DataFrame(index=['question_id'], columns=['frontend_question_id', 'question__title', 'question__title_slug', 'difficulty', 'paid_only', 'is_new_question', 'total_acs', 'total_submitted', 'likes', 'dislikes', 'topic_tags', 'similar_question_ids'])\n",
    "    for problem in all_problems:\n",
    "        difficulty = problem['difficulty']['level']\n",
    "        paid_only = problem['paid_only']\n",
    "        is_new_question = problem['stat']['is_new_question']\n",
    "        question_id = problem['stat']['question_id']\n",
    "        frontend_question_id = problem['stat']['frontend_question_id']\n",
    "        total_acs = problem['stat']['total_acs']\n",
    "        total_submitted = problem['stat']['total_submitted']\n",
    "        question__title = problem['stat']['question__title']\n",
    "        question__title_slug = problem['stat']['question__title_slug']\n",
    "        df1.loc[question_id] = [frontend_question_id, question__title, question__title_slug, difficulty, paid_only, is_new_question, total_acs, total_submitted, None, None, None, None]\n",
    "    df1.dropna(how='all', inplace=True)\n",
    "    df1.sort_index(inplace=True)\n",
    "    df1['url'] = 'https://leetcode.com/problems/' + df1['question__title_slug']\n",
    "    df1.to_csv('../Data/leetcode_problems.csv', index_label='question_id')\n"
   ]
  },
  {
   "cell_type": "code",
   "execution_count": 17,
   "metadata": {
    "tags": []
   },
   "outputs": [
    {
     "output_type": "stream",
     "name": "stdout",
     "text": "Wall time: 7.26 s\n"
    }
   ],
   "source": [
    "%time run_method_2()"
   ]
  }
 ]
}