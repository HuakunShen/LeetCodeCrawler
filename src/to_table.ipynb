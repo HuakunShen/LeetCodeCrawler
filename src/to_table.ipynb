{
 "metadata": {
  "language_info": {
   "codemirror_mode": {
    "name": "ipython",
    "version": 3
   },
   "file_extension": ".py",
   "mimetype": "text/x-python",
   "name": "python",
   "nbconvert_exporter": "python",
   "pygments_lexer": "ipython3",
   "version": "3.7.6-final"
  },
  "orig_nbformat": 2,
  "kernelspec": {
   "name": "python3",
   "display_name": "Python 3"
  }
 },
 "nbformat": 4,
 "nbformat_minor": 2,
 "cells": [
  {
   "cell_type": "code",
   "execution_count": 1,
   "metadata": {},
   "outputs": [],
   "source": [
    "import json\n",
    "import pandas as pd"
   ]
  },
  {
   "cell_type": "code",
   "execution_count": 2,
   "metadata": {},
   "outputs": [],
   "source": [
    "tag_url_prefix = \"https://leetcode.com/tag\""
   ]
  },
  {
   "cell_type": "code",
   "execution_count": 3,
   "metadata": {},
   "outputs": [],
   "source": [
    "df = pd.read_csv('../Data/leetcode_problems.csv', index_col='question_id')"
   ]
  },
  {
   "cell_type": "code",
   "execution_count": 5,
   "metadata": {},
   "outputs": [],
   "source": [
    "def to_a_link(text: str, url: str) -> str:\n",
    "    return \"<a href='\" + url + \"'>\" + text + \"</a>\""
   ]
  },
  {
   "cell_type": "code",
   "execution_count": 6,
   "metadata": {},
   "outputs": [],
   "source": [
    "def topic_tags_to_links(tags_str: str) -> str:\n",
    "    tags_list = json.loads(tags_str.replace(\"'\", '\"'))\n",
    "    a_links = []\n",
    "    for tag in tags_list:\n",
    "        a_links.append(to_a_link(tag['name'], \"{}/{}\".format(tag_url_prefix, tag['slug'])))\n",
    "    return a_links"
   ]
  },
  {
   "cell_type": "code",
   "execution_count": 7,
   "metadata": {
    "tags": []
   },
   "outputs": [],
   "source": [
    "def similar_question_ids_to_links(similar_question_ids_str):\n",
    "    similar_question_ids = json.loads(similar_question_ids_str)\n",
    "    a_links = []\n",
    "    for id in similar_question_ids:\n",
    "        row = df.loc[id]\n",
    "        a_links.append(to_a_link(row['question__title'], row['url']))\n",
    "    return a_links"
   ]
  },
  {
   "cell_type": "code",
   "execution_count": 8,
   "metadata": {
    "tags": []
   },
   "outputs": [],
   "source": [
    "difficulty_map = {1: 'Easy', 2: 'Medium', 3: 'Hard'}\n",
    "for i in df.index:\n",
    "    df.loc[i, 'difficulty'] = difficulty_map[df.loc[i]['difficulty']]"
   ]
  },
  {
   "cell_type": "code",
   "execution_count": 9,
   "metadata": {
    "tags": []
   },
   "outputs": [],
   "source": [
    "df['Title'] = \"<a href='\" + df['url'] + \"'>\" + df['question__title'] + \"</a>\""
   ]
  },
  {
   "cell_type": "code",
   "execution_count": 11,
   "metadata": {},
   "outputs": [],
   "source": [
    "df.rename(columns={'frontend_question_id': 'id', 'paid_only': 'Paid Only', 'is_new_question': 'New Question', 'difficulty': 'Difficulty'}, inplace=True, errors='raise')"
   ]
  },
  {
   "cell_type": "code",
   "execution_count": 12,
   "metadata": {},
   "outputs": [],
   "source": [
    "new_df = df[['id', 'Title', 'Difficulty', 'Paid Only', 'New Question']]"
   ]
  },
  {
   "cell_type": "code",
   "execution_count": 13,
   "metadata": {},
   "outputs": [],
   "source": [
    "new_df['Topic Tags'] = None\n",
    "new_df['Similar Questions'] = None"
   ]
  },
  {
   "cell_type": "code",
   "execution_count": 14,
   "metadata": {
    "tags": []
   },
   "outputs": [],
   "source": [
    "for index in new_df.index:\n",
    "    new_df.loc[index, 'Topic Tags'] = ', '.join(topic_tags_to_links(df.loc[index, 'topic_tags']))\n",
    "    new_df.loc[index, 'Similar Questions'] = ', '.join(similar_question_ids_to_links(df.loc[index, 'similar_question_ids']))"
   ]
  },
  {
   "cell_type": "code",
   "execution_count": 16,
   "metadata": {},
   "outputs": [],
   "source": [
    "new_df.to_html(\"../Data/problems.md\", escape=False, index=False)\n",
    "new_df.to_html(\"../Data/problems.html\", escape=False, index=False)"
   ]
  },
  {
   "cell_type": "code",
   "execution_count": null,
   "metadata": {},
   "outputs": [],
   "source": []
  }
 ]
}