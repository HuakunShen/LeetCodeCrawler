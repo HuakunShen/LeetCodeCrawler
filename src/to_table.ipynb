{
 "metadata": {
  "language_info": {
   "codemirror_mode": {
    "name": "ipython",
    "version": 3
   },
   "file_extension": ".py",
   "mimetype": "text/x-python",
   "name": "python",
   "nbconvert_exporter": "python",
   "pygments_lexer": "ipython3",
   "version": "3.7.6-final"
  },
  "orig_nbformat": 2,
  "kernelspec": {
   "name": "python3",
   "display_name": "Python 3"
  }
 },
 "nbformat": 4,
 "nbformat_minor": 2,
 "cells": [
  {
   "cell_type": "code",
   "execution_count": 1,
   "metadata": {},
   "outputs": [],
   "source": [
    "import json\n",
    "import pandas as pd"
   ]
  },
  {
   "cell_type": "code",
   "execution_count": 2,
   "metadata": {},
   "outputs": [],
   "source": [
    "tag_url_prefix = \"https://leetcode.com/tag\""
   ]
  },
  {
   "cell_type": "code",
   "execution_count": 3,
   "metadata": {},
   "outputs": [],
   "source": [
    "df = pd.read_csv('../Data/leetcode_problems.csv', index_col='question_id')"
   ]
  },
  {
   "cell_type": "code",
   "execution_count": 4,
   "metadata": {},
   "outputs": [
    {
     "output_type": "execute_result",
     "data": {
      "text/plain": "             frontend_question_id  \\\nquestion_id                         \n1                               1   \n2                               2   \n3                               3   \n4                               4   \n5                               5   \n...                           ...   \n1712                         1565   \n1713                         1570   \n1718                         1571   \n1719                         1580   \n1724                         1581   \n\n                                               question__title  \\\nquestion_id                                                      \n1                                                      Two Sum   \n2                                              Add Two Numbers   \n3               Longest Substring Without Repeating Characters   \n4                                  Median of Two Sorted Arrays   \n5                                Longest Palindromic Substring   \n...                                                        ...   \n1712                     Unique Orders and Customers Per Month   \n1713                         Dot Product of Two Sparse Vectors   \n1718                                         Warehouse Manager   \n1719                           Put Boxes Into the Warehouse II   \n1724         Customer Who Visited but Did Not Make Any Tran...   \n\n                                          question__title_slug  difficulty  \\\nquestion_id                                                                  \n1                                                      two-sum           1   \n2                                              add-two-numbers           2   \n3               longest-substring-without-repeating-characters           2   \n4                                  median-of-two-sorted-arrays           3   \n5                                longest-palindromic-substring           2   \n...                                                        ...         ...   \n1712                     unique-orders-and-customers-per-month           1   \n1713                         dot-product-of-two-sparse-vectors           2   \n1718                                         warehouse-manager           1   \n1719                           put-boxes-into-the-warehouse-ii           2   \n1724         customer-who-visited-but-did-not-make-any-tran...           1   \n\n             paid_only  is_new_question  total_acs  total_submitted    likes  \\\nquestion_id                                                                    \n1                False            False    3287845          7187570  16784.0   \n2                False            False    1532686          4495796   9184.0   \n3                False            False    1700822          5566620  10656.0   \n4                False            False     739254          2474577   7835.0   \n5                False            False    1024105          3460573   7896.0   \n...                ...              ...        ...              ...      ...   \n1712              True            False       1199             1465     10.0   \n1713              True            False       1681             1791     30.0   \n1718              True             True       1129             1234     12.0   \n1719              True             True        276              431     26.0   \n1724              True             True        193              224      4.0   \n\n             dislikes                                          topicTags  \\\nquestion_id                                                                \n1               608.0  [{'name': 'Array', 'slug': 'array'}, {'name': ...   \n2              2309.0  [{'name': 'Linked List', 'slug': 'linked-list'...   \n3               607.0  [{'name': 'Hash Table', 'slug': 'hash-table'},...   \n4              1226.0  [{'name': 'Array', 'slug': 'array'}, {'name': ...   \n5               569.0  [{'name': 'String', 'slug': 'string'}, {'name'...   \n...               ...                                                ...   \n1712              6.0                                                 []   \n1713              4.0  [{'name': 'Array', 'slug': 'array'}, {'name': ...   \n1718              2.0                                                 []   \n1719              0.0             [{'name': 'Greedy', 'slug': 'greedy'}]   \n1724              0.0                                                 []   \n\n                           similar_question_ids  \\\nquestion_id                                       \n1            [15, 18, 167, 170, 560, 653, 1083]   \n2                 [43, 67, 371, 415, 445, 1031]   \n3                              [159, 340, 1034]   \n4                                            []   \n5                     [214, 266, 336, 516, 647]   \n...                                         ...   \n1712                                         []   \n1713                                         []   \n1718                                         []   \n1719                                     [1703]   \n1724                                         []   \n\n                                                           url  \nquestion_id                                                     \n1                        https://leetcode.com/problems/two-sum  \n2                https://leetcode.com/problems/add-two-numbers  \n3            https://leetcode.com/problems/longest-substrin...  \n4            https://leetcode.com/problems/median-of-two-so...  \n5            https://leetcode.com/problems/longest-palindro...  \n...                                                        ...  \n1712         https://leetcode.com/problems/unique-orders-an...  \n1713         https://leetcode.com/problems/dot-product-of-t...  \n1718           https://leetcode.com/problems/warehouse-manager  \n1719         https://leetcode.com/problems/put-boxes-into-t...  \n1724         https://leetcode.com/problems/customer-who-vis...  \n\n[1581 rows x 13 columns]",
      "text/html": "<div>\n<style scoped>\n    .dataframe tbody tr th:only-of-type {\n        vertical-align: middle;\n    }\n\n    .dataframe tbody tr th {\n        vertical-align: top;\n    }\n\n    .dataframe thead th {\n        text-align: right;\n    }\n</style>\n<table border=\"1\" class=\"dataframe\">\n  <thead>\n    <tr style=\"text-align: right;\">\n      <th></th>\n      <th>frontend_question_id</th>\n      <th>question__title</th>\n      <th>question__title_slug</th>\n      <th>difficulty</th>\n      <th>paid_only</th>\n      <th>is_new_question</th>\n      <th>total_acs</th>\n      <th>total_submitted</th>\n      <th>likes</th>\n      <th>dislikes</th>\n      <th>topicTags</th>\n      <th>similar_question_ids</th>\n      <th>url</th>\n    </tr>\n    <tr>\n      <th>question_id</th>\n      <th></th>\n      <th></th>\n      <th></th>\n      <th></th>\n      <th></th>\n      <th></th>\n      <th></th>\n      <th></th>\n      <th></th>\n      <th></th>\n      <th></th>\n      <th></th>\n      <th></th>\n    </tr>\n  </thead>\n  <tbody>\n    <tr>\n      <th>1</th>\n      <td>1</td>\n      <td>Two Sum</td>\n      <td>two-sum</td>\n      <td>1</td>\n      <td>False</td>\n      <td>False</td>\n      <td>3287845</td>\n      <td>7187570</td>\n      <td>16784.0</td>\n      <td>608.0</td>\n      <td>[{'name': 'Array', 'slug': 'array'}, {'name': ...</td>\n      <td>[15, 18, 167, 170, 560, 653, 1083]</td>\n      <td>https://leetcode.com/problems/two-sum</td>\n    </tr>\n    <tr>\n      <th>2</th>\n      <td>2</td>\n      <td>Add Two Numbers</td>\n      <td>add-two-numbers</td>\n      <td>2</td>\n      <td>False</td>\n      <td>False</td>\n      <td>1532686</td>\n      <td>4495796</td>\n      <td>9184.0</td>\n      <td>2309.0</td>\n      <td>[{'name': 'Linked List', 'slug': 'linked-list'...</td>\n      <td>[43, 67, 371, 415, 445, 1031]</td>\n      <td>https://leetcode.com/problems/add-two-numbers</td>\n    </tr>\n    <tr>\n      <th>3</th>\n      <td>3</td>\n      <td>Longest Substring Without Repeating Characters</td>\n      <td>longest-substring-without-repeating-characters</td>\n      <td>2</td>\n      <td>False</td>\n      <td>False</td>\n      <td>1700822</td>\n      <td>5566620</td>\n      <td>10656.0</td>\n      <td>607.0</td>\n      <td>[{'name': 'Hash Table', 'slug': 'hash-table'},...</td>\n      <td>[159, 340, 1034]</td>\n      <td>https://leetcode.com/problems/longest-substrin...</td>\n    </tr>\n    <tr>\n      <th>4</th>\n      <td>4</td>\n      <td>Median of Two Sorted Arrays</td>\n      <td>median-of-two-sorted-arrays</td>\n      <td>3</td>\n      <td>False</td>\n      <td>False</td>\n      <td>739254</td>\n      <td>2474577</td>\n      <td>7835.0</td>\n      <td>1226.0</td>\n      <td>[{'name': 'Array', 'slug': 'array'}, {'name': ...</td>\n      <td>[]</td>\n      <td>https://leetcode.com/problems/median-of-two-so...</td>\n    </tr>\n    <tr>\n      <th>5</th>\n      <td>5</td>\n      <td>Longest Palindromic Substring</td>\n      <td>longest-palindromic-substring</td>\n      <td>2</td>\n      <td>False</td>\n      <td>False</td>\n      <td>1024105</td>\n      <td>3460573</td>\n      <td>7896.0</td>\n      <td>569.0</td>\n      <td>[{'name': 'String', 'slug': 'string'}, {'name'...</td>\n      <td>[214, 266, 336, 516, 647]</td>\n      <td>https://leetcode.com/problems/longest-palindro...</td>\n    </tr>\n    <tr>\n      <th>...</th>\n      <td>...</td>\n      <td>...</td>\n      <td>...</td>\n      <td>...</td>\n      <td>...</td>\n      <td>...</td>\n      <td>...</td>\n      <td>...</td>\n      <td>...</td>\n      <td>...</td>\n      <td>...</td>\n      <td>...</td>\n      <td>...</td>\n    </tr>\n    <tr>\n      <th>1712</th>\n      <td>1565</td>\n      <td>Unique Orders and Customers Per Month</td>\n      <td>unique-orders-and-customers-per-month</td>\n      <td>1</td>\n      <td>True</td>\n      <td>False</td>\n      <td>1199</td>\n      <td>1465</td>\n      <td>10.0</td>\n      <td>6.0</td>\n      <td>[]</td>\n      <td>[]</td>\n      <td>https://leetcode.com/problems/unique-orders-an...</td>\n    </tr>\n    <tr>\n      <th>1713</th>\n      <td>1570</td>\n      <td>Dot Product of Two Sparse Vectors</td>\n      <td>dot-product-of-two-sparse-vectors</td>\n      <td>2</td>\n      <td>True</td>\n      <td>False</td>\n      <td>1681</td>\n      <td>1791</td>\n      <td>30.0</td>\n      <td>4.0</td>\n      <td>[{'name': 'Array', 'slug': 'array'}, {'name': ...</td>\n      <td>[]</td>\n      <td>https://leetcode.com/problems/dot-product-of-t...</td>\n    </tr>\n    <tr>\n      <th>1718</th>\n      <td>1571</td>\n      <td>Warehouse Manager</td>\n      <td>warehouse-manager</td>\n      <td>1</td>\n      <td>True</td>\n      <td>True</td>\n      <td>1129</td>\n      <td>1234</td>\n      <td>12.0</td>\n      <td>2.0</td>\n      <td>[]</td>\n      <td>[]</td>\n      <td>https://leetcode.com/problems/warehouse-manager</td>\n    </tr>\n    <tr>\n      <th>1719</th>\n      <td>1580</td>\n      <td>Put Boxes Into the Warehouse II</td>\n      <td>put-boxes-into-the-warehouse-ii</td>\n      <td>2</td>\n      <td>True</td>\n      <td>True</td>\n      <td>276</td>\n      <td>431</td>\n      <td>26.0</td>\n      <td>0.0</td>\n      <td>[{'name': 'Greedy', 'slug': 'greedy'}]</td>\n      <td>[1703]</td>\n      <td>https://leetcode.com/problems/put-boxes-into-t...</td>\n    </tr>\n    <tr>\n      <th>1724</th>\n      <td>1581</td>\n      <td>Customer Who Visited but Did Not Make Any Tran...</td>\n      <td>customer-who-visited-but-did-not-make-any-tran...</td>\n      <td>1</td>\n      <td>True</td>\n      <td>True</td>\n      <td>193</td>\n      <td>224</td>\n      <td>4.0</td>\n      <td>0.0</td>\n      <td>[]</td>\n      <td>[]</td>\n      <td>https://leetcode.com/problems/customer-who-vis...</td>\n    </tr>\n  </tbody>\n</table>\n<p>1581 rows × 13 columns</p>\n</div>"
     },
     "metadata": {},
     "execution_count": 4
    }
   ],
   "source": [
    "df"
   ]
  },
  {
   "cell_type": "code",
   "execution_count": 5,
   "metadata": {},
   "outputs": [],
   "source": [
    "def to_a_link(text: str, url: str) -> str:\n",
    "    return \"<a href='\" + url + \"'>\" + text + \"</a>\""
   ]
  },
  {
   "cell_type": "code",
   "execution_count": 6,
   "metadata": {},
   "outputs": [],
   "source": [
    "def topic_tags_to_links(tags_str: str) -> str:\n",
    "    tags_list = json.loads(tags_str.replace(\"'\", '\"'))\n",
    "    a_links = []\n",
    "    for tag in tags_list:\n",
    "        a_links.append(to_a_link(tag['name'], \"{}/{}\".format(tag_url_prefix, tag['slug'])))\n",
    "    return a_links"
   ]
  },
  {
   "cell_type": "code",
   "execution_count": 7,
   "metadata": {
    "tags": []
   },
   "outputs": [],
   "source": [
    "def similar_question_ids_to_links(similar_question_ids_str):\n",
    "    similar_question_ids = json.loads(similar_question_ids_str)\n",
    "    a_links = []\n",
    "    for id in similar_question_ids:\n",
    "        row = df.loc[id]\n",
    "        a_links.append(to_a_link(row['question__title'], row['url']))\n",
    "    return a_links"
   ]
  },
  {
   "cell_type": "code",
   "execution_count": 8,
   "metadata": {
    "tags": []
   },
   "outputs": [],
   "source": [
    "difficulty_map = {1: 'Easy', 2: 'Medium', 3: 'Hard'}\n",
    "for i in df.index:\n",
    "    df.loc[i, 'difficulty'] = difficulty_map[df.loc[i]['difficulty']]"
   ]
  },
  {
   "cell_type": "code",
   "execution_count": 9,
   "metadata": {
    "tags": []
   },
   "outputs": [],
   "source": [
    "df['Title'] = \"<a href='\" + df['url'] + \"'>\" + df['question__title'] + \"</a>\""
   ]
  },
  {
   "cell_type": "code",
   "execution_count": 10,
   "metadata": {},
   "outputs": [],
   "source": [
    "df.rename(columns={'frontend_question_id': 'id', 'paid_only': 'Paid Only', 'is_new_question': 'New Question', 'difficulty': 'Difficulty'}, inplace=True, errors='raise')"
   ]
  },
  {
   "cell_type": "code",
   "execution_count": 11,
   "metadata": {},
   "outputs": [],
   "source": [
    "new_df = df[['id', 'Title', 'Difficulty', 'Paid Only', 'New Question']]"
   ]
  },
  {
   "cell_type": "code",
   "execution_count": 14,
   "metadata": {},
   "outputs": [],
   "source": [
    "new_df['Topic Tags'] = None\n",
    "new_df['Similar Questions'] = None"
   ]
  },
  {
   "cell_type": "code",
   "execution_count": 33,
   "metadata": {
    "tags": []
   },
   "outputs": [],
   "source": [
    "for index in new_df.index:\n",
    "    new_df.loc[index, 'Topic Tags'] = ', '.join(topic_tags_to_links(df.loc[index, 'topic_tags']))\n",
    "    new_df.loc[index, 'Similar Questions'] = ', '.join(similar_question_ids_to_links(df.loc[index, 'similar_question_ids']))"
   ]
  },
  {
   "cell_type": "code",
   "execution_count": 34,
   "metadata": {},
   "outputs": [
    {
     "output_type": "execute_result",
     "data": {
      "text/plain": "               id                                              Title  \\\nquestion_id                                                            \n1               1  <a href='https://leetcode.com/problems/two-sum...   \n2               2  <a href='https://leetcode.com/problems/add-two...   \n3               3  <a href='https://leetcode.com/problems/longest...   \n4               4  <a href='https://leetcode.com/problems/median-...   \n5               5  <a href='https://leetcode.com/problems/longest...   \n...           ...                                                ...   \n1712         1565  <a href='https://leetcode.com/problems/unique-...   \n1713         1570  <a href='https://leetcode.com/problems/dot-pro...   \n1718         1571  <a href='https://leetcode.com/problems/warehou...   \n1719         1580  <a href='https://leetcode.com/problems/put-box...   \n1724         1581  <a href='https://leetcode.com/problems/custome...   \n\n            Difficulty  Paid Only  New Question  \\\nquestion_id                                       \n1                 Easy      False         False   \n2               Medium      False         False   \n3               Medium      False         False   \n4                 Hard      False         False   \n5               Medium      False         False   \n...                ...        ...           ...   \n1712              Easy       True         False   \n1713            Medium       True         False   \n1718              Easy       True          True   \n1719            Medium       True          True   \n1724              Easy       True          True   \n\n                                                    Topic Tags  \\\nquestion_id                                                      \n1            <a href='https://leetcode.com/tag/array'>Array...   \n2            <a href='https://leetcode.com/tag/linked-list'...   \n3            <a href='https://leetcode.com/tag/hash-table'>...   \n4            <a href='https://leetcode.com/tag/array'>Array...   \n5            <a href='https://leetcode.com/tag/string'>Stri...   \n...                                                        ...   \n1712                                                             \n1713         <a href='https://leetcode.com/tag/array'>Array...   \n1718                                                             \n1719         <a href='https://leetcode.com/tag/greedy'>Gree...   \n1724                                                             \n\n                                             Similar Questions  \nquestion_id                                                     \n1            <a href='https://leetcode.com/problems/3sum'>3...  \n2            <a href='https://leetcode.com/problems/multipl...  \n3            <a href='https://leetcode.com/problems/longest...  \n4                                                               \n5            <a href='https://leetcode.com/problems/shortes...  \n...                                                        ...  \n1712                                                            \n1713                                                            \n1718                                                            \n1719         <a href='https://leetcode.com/problems/put-box...  \n1724                                                            \n\n[1581 rows x 7 columns]",
      "text/html": "<div>\n<style scoped>\n    .dataframe tbody tr th:only-of-type {\n        vertical-align: middle;\n    }\n\n    .dataframe tbody tr th {\n        vertical-align: top;\n    }\n\n    .dataframe thead th {\n        text-align: right;\n    }\n</style>\n<table border=\"1\" class=\"dataframe\">\n  <thead>\n    <tr style=\"text-align: right;\">\n      <th></th>\n      <th>id</th>\n      <th>Title</th>\n      <th>Difficulty</th>\n      <th>Paid Only</th>\n      <th>New Question</th>\n      <th>Topic Tags</th>\n      <th>Similar Questions</th>\n    </tr>\n    <tr>\n      <th>question_id</th>\n      <th></th>\n      <th></th>\n      <th></th>\n      <th></th>\n      <th></th>\n      <th></th>\n      <th></th>\n    </tr>\n  </thead>\n  <tbody>\n    <tr>\n      <th>1</th>\n      <td>1</td>\n      <td>&lt;a href='https://leetcode.com/problems/two-sum...</td>\n      <td>Easy</td>\n      <td>False</td>\n      <td>False</td>\n      <td>&lt;a href='https://leetcode.com/tag/array'&gt;Array...</td>\n      <td>&lt;a href='https://leetcode.com/problems/3sum'&gt;3...</td>\n    </tr>\n    <tr>\n      <th>2</th>\n      <td>2</td>\n      <td>&lt;a href='https://leetcode.com/problems/add-two...</td>\n      <td>Medium</td>\n      <td>False</td>\n      <td>False</td>\n      <td>&lt;a href='https://leetcode.com/tag/linked-list'...</td>\n      <td>&lt;a href='https://leetcode.com/problems/multipl...</td>\n    </tr>\n    <tr>\n      <th>3</th>\n      <td>3</td>\n      <td>&lt;a href='https://leetcode.com/problems/longest...</td>\n      <td>Medium</td>\n      <td>False</td>\n      <td>False</td>\n      <td>&lt;a href='https://leetcode.com/tag/hash-table'&gt;...</td>\n      <td>&lt;a href='https://leetcode.com/problems/longest...</td>\n    </tr>\n    <tr>\n      <th>4</th>\n      <td>4</td>\n      <td>&lt;a href='https://leetcode.com/problems/median-...</td>\n      <td>Hard</td>\n      <td>False</td>\n      <td>False</td>\n      <td>&lt;a href='https://leetcode.com/tag/array'&gt;Array...</td>\n      <td></td>\n    </tr>\n    <tr>\n      <th>5</th>\n      <td>5</td>\n      <td>&lt;a href='https://leetcode.com/problems/longest...</td>\n      <td>Medium</td>\n      <td>False</td>\n      <td>False</td>\n      <td>&lt;a href='https://leetcode.com/tag/string'&gt;Stri...</td>\n      <td>&lt;a href='https://leetcode.com/problems/shortes...</td>\n    </tr>\n    <tr>\n      <th>...</th>\n      <td>...</td>\n      <td>...</td>\n      <td>...</td>\n      <td>...</td>\n      <td>...</td>\n      <td>...</td>\n      <td>...</td>\n    </tr>\n    <tr>\n      <th>1712</th>\n      <td>1565</td>\n      <td>&lt;a href='https://leetcode.com/problems/unique-...</td>\n      <td>Easy</td>\n      <td>True</td>\n      <td>False</td>\n      <td></td>\n      <td></td>\n    </tr>\n    <tr>\n      <th>1713</th>\n      <td>1570</td>\n      <td>&lt;a href='https://leetcode.com/problems/dot-pro...</td>\n      <td>Medium</td>\n      <td>True</td>\n      <td>False</td>\n      <td>&lt;a href='https://leetcode.com/tag/array'&gt;Array...</td>\n      <td></td>\n    </tr>\n    <tr>\n      <th>1718</th>\n      <td>1571</td>\n      <td>&lt;a href='https://leetcode.com/problems/warehou...</td>\n      <td>Easy</td>\n      <td>True</td>\n      <td>True</td>\n      <td></td>\n      <td></td>\n    </tr>\n    <tr>\n      <th>1719</th>\n      <td>1580</td>\n      <td>&lt;a href='https://leetcode.com/problems/put-box...</td>\n      <td>Medium</td>\n      <td>True</td>\n      <td>True</td>\n      <td>&lt;a href='https://leetcode.com/tag/greedy'&gt;Gree...</td>\n      <td>&lt;a href='https://leetcode.com/problems/put-box...</td>\n    </tr>\n    <tr>\n      <th>1724</th>\n      <td>1581</td>\n      <td>&lt;a href='https://leetcode.com/problems/custome...</td>\n      <td>Easy</td>\n      <td>True</td>\n      <td>True</td>\n      <td></td>\n      <td></td>\n    </tr>\n  </tbody>\n</table>\n<p>1581 rows × 7 columns</p>\n</div>"
     },
     "metadata": {},
     "execution_count": 34
    }
   ],
   "source": [
    "new_df"
   ]
  },
  {
   "cell_type": "code",
   "execution_count": 9,
   "metadata": {},
   "outputs": [],
   "source": [
    "new_df.to_html(\"../Data/problems.md\", escape=False, index=False)\n",
    "new_df.to_html(\"../Data/problems.html\", escape=False, index=False)"
   ]
  },
  {
   "cell_type": "code",
   "execution_count": null,
   "metadata": {},
   "outputs": [],
   "source": []
  }
 ]
}